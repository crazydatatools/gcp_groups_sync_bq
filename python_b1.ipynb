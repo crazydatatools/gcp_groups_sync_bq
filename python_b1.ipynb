{
  "nbformat": 4,
  "nbformat_minor": 0,
  "metadata": {
    "colab": {
      "provenance": [],
      "toc_visible": true,
      "authorship_tag": "ABX9TyNWU8qyy23ZjiE6jiMPZaL/",
      "include_colab_link": true
    },
    "kernelspec": {
      "name": "python3",
      "display_name": "Python 3"
    },
    "language_info": {
      "name": "python"
    }
  },
  "cells": [
    {
      "cell_type": "markdown",
      "metadata": {
        "id": "view-in-github",
        "colab_type": "text"
      },
      "source": [
        "<a href=\"https://colab.research.google.com/github/crazydatatools/gcp_groups_sync_bq/blob/main/python_b1.ipynb\" target=\"_parent\"><img src=\"https://colab.research.google.com/assets/colab-badge.svg\" alt=\"Open In Colab\"/></a>"
      ]
    },
    {
      "cell_type": "code",
      "execution_count": null,
      "metadata": {
        "colab": {
          "base_uri": "https://localhost:8080/",
          "height": 35
        },
        "id": "ZoXjgzFcNYB1",
        "outputId": "e86f3da8-b2be-4a2e-e8c2-eb791d5fa1da"
      },
      "outputs": [
        {
          "output_type": "execute_result",
          "data": {
            "text/plain": [
              "'ravi'"
            ],
            "application/vnd.google.colaboratory.intrinsic+json": {
              "type": "string"
            }
          },
          "metadata": {},
          "execution_count": 5
        }
      ],
      "source": [
        "name='ravi'\n",
        "name"
      ]
    },
    {
      "cell_type": "code",
      "source": [
        "!ls -ltrh"
      ],
      "metadata": {
        "colab": {
          "base_uri": "https://localhost:8080/"
        },
        "id": "nRL-cSx4NwdT",
        "outputId": "ec849749-5bb6-486a-9e2e-869a61fee1e3"
      },
      "execution_count": null,
      "outputs": [
        {
          "output_type": "stream",
          "name": "stdout",
          "text": [
            "total 4.0K\n",
            "drwxr-xr-x 1 root root 4.0K Oct 16 13:24 sample_data\n"
          ]
        }
      ]
    },
    {
      "cell_type": "code",
      "source": [
        "!find / -type f -name *anscombe.json"
      ],
      "metadata": {
        "colab": {
          "base_uri": "https://localhost:8080/"
        },
        "id": "zVO4PPVlN2Bt",
        "outputId": "1c8f21cb-d5ac-468a-bd79-f47e510bed69"
      },
      "execution_count": null,
      "outputs": [
        {
          "output_type": "stream",
          "name": "stdout",
          "text": [
            "/usr/local/lib/python3.10/dist-packages/vega_datasets/_data/anscombe.json\n",
            "find: ‘/proc/67/task/67/net’: Invalid argument\n",
            "find: ‘/proc/67/net’: Invalid argument\n",
            "/content/sample_data/anscombe.json\n"
          ]
        }
      ]
    },
    {
      "cell_type": "code",
      "source": [
        "!find / -type d -name \"sample_data\""
      ],
      "metadata": {
        "colab": {
          "base_uri": "https://localhost:8080/"
        },
        "id": "5nXZXiOGQcxr",
        "outputId": "c2a963fc-8b75-4038-85d7-c95719e510c2"
      },
      "execution_count": null,
      "outputs": [
        {
          "output_type": "stream",
          "name": "stdout",
          "text": [
            "/usr/local/lib/python3.10/dist-packages/matplotlib/mpl-data/sample_data\n",
            "find: ‘/proc/67/task/67/net’: Invalid argument\n",
            "find: ‘/proc/67/net’: Invalid argument\n",
            "/content/sample_data\n"
          ]
        }
      ]
    },
    {
      "cell_type": "code",
      "source": [
        "%lsmagic"
      ],
      "metadata": {
        "colab": {
          "base_uri": "https://localhost:8080/",
          "height": 225
        },
        "id": "BwIEf0heS3fC",
        "outputId": "7890a973-f8ee-4122-df38-515703f64830"
      },
      "execution_count": null,
      "outputs": [
        {
          "output_type": "execute_result",
          "data": {
            "text/plain": [
              "Available line magics:\n",
              "%alias  %alias_magic  %autoawait  %autocall  %automagic  %autosave  %bookmark  %cat  %cd  %clear  %colors  %conda  %config  %connect_info  %cp  %debug  %dhist  %dirs  %doctest_mode  %ed  %edit  %env  %gui  %hist  %history  %killbgscripts  %ldir  %less  %lf  %lk  %ll  %load  %load_ext  %loadpy  %logoff  %logon  %logstart  %logstate  %logstop  %ls  %lsmagic  %lx  %macro  %magic  %man  %matplotlib  %mkdir  %more  %mv  %notebook  %page  %pastebin  %pdb  %pdef  %pdoc  %pfile  %pinfo  %pinfo2  %pip  %popd  %pprint  %precision  %prun  %psearch  %psource  %pushd  %pwd  %pycat  %pylab  %qtconsole  %quickref  %recall  %rehashx  %reload_ext  %rep  %rerun  %reset  %reset_selective  %rm  %rmdir  %run  %save  %sc  %set_env  %shell  %store  %sx  %system  %tb  %tensorflow_version  %time  %timeit  %unalias  %unload_ext  %who  %who_ls  %whos  %xdel  %xmode\n",
              "\n",
              "Available cell magics:\n",
              "%%!  %%HTML  %%SVG  %%bash  %%bigquery  %%capture  %%debug  %%file  %%html  %%javascript  %%js  %%latex  %%markdown  %%perl  %%prun  %%pypy  %%python  %%python2  %%python3  %%ruby  %%script  %%sh  %%shell  %%svg  %%sx  %%system  %%time  %%timeit  %%writefile\n",
              "\n",
              "Automagic is ON, % prefix IS NOT needed for line magics."
            ],
            "application/json": {
              "line": {
                "automagic": "AutoMagics",
                "autocall": "AutoMagics",
                "alias_magic": "BasicMagics",
                "lsmagic": "BasicMagics",
                "magic": "BasicMagics",
                "page": "BasicMagics",
                "pprint": "BasicMagics",
                "colors": "BasicMagics",
                "xmode": "BasicMagics",
                "quickref": "BasicMagics",
                "doctest_mode": "BasicMagics",
                "gui": "BasicMagics",
                "precision": "BasicMagics",
                "notebook": "BasicMagics",
                "save": "CodeMagics",
                "pastebin": "CodeMagics",
                "loadpy": "CodeMagics",
                "load": "CodeMagics",
                "edit": "KernelMagics",
                "config": "ConfigMagics",
                "prun": "ExecutionMagics",
                "pdb": "ExecutionMagics",
                "debug": "ExecutionMagics",
                "tb": "ExecutionMagics",
                "run": "ExecutionMagics",
                "timeit": "ExecutionMagics",
                "time": "ExecutionMagics",
                "macro": "ExecutionMagics",
                "load_ext": "ExtensionMagics",
                "unload_ext": "ExtensionMagics",
                "reload_ext": "ExtensionMagics",
                "history": "HistoryMagics",
                "recall": "HistoryMagics",
                "rerun": "HistoryMagics",
                "logstart": "LoggingMagics",
                "logstop": "LoggingMagics",
                "logoff": "LoggingMagics",
                "logon": "LoggingMagics",
                "logstate": "LoggingMagics",
                "pinfo": "NamespaceMagics",
                "pinfo2": "NamespaceMagics",
                "pdef": "NamespaceMagics",
                "pdoc": "NamespaceMagics",
                "psource": "NamespaceMagics",
                "pfile": "NamespaceMagics",
                "psearch": "NamespaceMagics",
                "who_ls": "NamespaceMagics",
                "who": "NamespaceMagics",
                "whos": "NamespaceMagics",
                "reset": "NamespaceMagics",
                "reset_selective": "NamespaceMagics",
                "xdel": "NamespaceMagics",
                "alias": "OSMagics",
                "unalias": "OSMagics",
                "rehashx": "OSMagics",
                "pwd": "OSMagics",
                "cd": "OSMagics",
                "env": "OSMagics",
                "set_env": "OSMagics",
                "pushd": "OSMagics",
                "popd": "OSMagics",
                "dirs": "OSMagics",
                "dhist": "OSMagics",
                "sc": "OSMagics",
                "sx": "OSMagics",
                "system": "OSMagics",
                "bookmark": "OSMagics",
                "pycat": "OSMagics",
                "pip": "Other",
                "conda": "PackagingMagics",
                "matplotlib": "PylabMagics",
                "pylab": "PylabMagics",
                "killbgscripts": "ScriptMagics",
                "autoawait": "AsyncMagics",
                "ed": "Other",
                "hist": "Other",
                "rep": "Other",
                "clear": "KernelMagics",
                "less": "KernelMagics",
                "more": "KernelMagics",
                "man": "KernelMagics",
                "connect_info": "KernelMagics",
                "qtconsole": "KernelMagics",
                "autosave": "KernelMagics",
                "mkdir": "Other",
                "rmdir": "Other",
                "mv": "Other",
                "rm": "Other",
                "cp": "Other",
                "cat": "Other",
                "ls": "Other",
                "ll": "Other",
                "lf": "Other",
                "lk": "Other",
                "ldir": "Other",
                "lx": "Other",
                "store": "StoreMagics",
                "shell": "Other",
                "tensorflow_version": "Other"
              },
              "cell": {
                "js": "DisplayMagics",
                "javascript": "DisplayMagics",
                "latex": "DisplayMagics",
                "svg": "DisplayMagics",
                "html": "DisplayMagics",
                "markdown": "DisplayMagics",
                "prun": "ExecutionMagics",
                "debug": "ExecutionMagics",
                "timeit": "ExecutionMagics",
                "time": "ExecutionMagics",
                "capture": "ExecutionMagics",
                "sx": "OSMagics",
                "system": "OSMagics",
                "!": "OSMagics",
                "writefile": "OSMagics",
                "script": "ScriptMagics",
                "sh": "Other",
                "bash": "Other",
                "perl": "Other",
                "ruby": "Other",
                "python": "Other",
                "python2": "Other",
                "python3": "Other",
                "pypy": "Other",
                "SVG": "Other",
                "HTML": "Other",
                "file": "Other",
                "bigquery": "Other",
                "shell": "Other"
              }
            }
          },
          "metadata": {},
          "execution_count": 24
        }
      ]
    },
    {
      "cell_type": "code",
      "source": [
        "%%timeit\n",
        "sqr_events=[n*n for n in range(1000)]"
      ],
      "metadata": {
        "colab": {
          "base_uri": "https://localhost:8080/"
        },
        "id": "Dz-oXph9S7Kf",
        "outputId": "7c7bdf40-78ac-42f0-bc6f-24f43cd5aca5"
      },
      "execution_count": null,
      "outputs": [
        {
          "output_type": "stream",
          "name": "stdout",
          "text": [
            "76.5 µs ± 14.1 µs per loop (mean ± std. dev. of 7 runs, 10000 loops each)\n"
          ]
        }
      ]
    },
    {
      "cell_type": "markdown",
      "source": [
        "# exception handling"
      ],
      "metadata": {
        "id": "C1q8K09988zO"
      }
    },
    {
      "cell_type": "code",
      "source": [
        "def get_int():\n",
        "  while True:\n",
        "      try:\n",
        "        x=int(input(\"please enter value\"))\n",
        "      except ValueError:\n",
        "        print(\"x is not a integer\") #pass\n",
        "      else:\n",
        "        break\n",
        "  return x\n",
        "\n",
        "x= get_int()\n",
        "print(f\"x is {x}\")"
      ],
      "metadata": {
        "colab": {
          "base_uri": "https://localhost:8080/"
        },
        "id": "WANIGMHj9DgF",
        "outputId": "f3af533d-240c-4b02-b3ab-c530f19fccaa"
      },
      "execution_count": null,
      "outputs": [
        {
          "output_type": "stream",
          "name": "stdout",
          "text": [
            "please enter valuegg\n",
            "x is not a integer\n",
            "please enter value56\n",
            "x is 56\n"
          ]
        }
      ]
    },
    {
      "cell_type": "code",
      "source": [
        "def main():\n",
        "    while True:\n",
        "        try:\n",
        "            # Prompt the user for input\n",
        "            fraction = input(\"Fraction (X/Y): \").strip()\n",
        "\n",
        "            # Split the input into X and Y\n",
        "            x, y = fraction.split('/')\n",
        "\n",
        "            # Convert X and Y to integers\n",
        "            x = int(x)\n",
        "            y = int(y)\n",
        "\n",
        "            # Check if Y is zero to avoid ZeroDivisionError\n",
        "            if y == 0:\n",
        "                raise ZeroDivisionError\n",
        "\n",
        "            # Check if X is greater than Y\n",
        "            if x > y:\n",
        "                raise ValueError\n",
        "\n",
        "            # Calculate the percentage\n",
        "            percentage = (x / y) * 100\n",
        "\n",
        "            # Round the percentage to the nearest integer\n",
        "            percentage = round(percentage)\n",
        "\n",
        "            # Output based on the percentage\n",
        "            if percentage <= 1:\n",
        "                print(\"E\")\n",
        "            elif percentage >= 99:\n",
        "                print(\"F\")\n",
        "            else:\n",
        "                print(f\"{percentage}%\")\n",
        "\n",
        "            # Exit the loop when valid input is processed\n",
        "            break\n",
        "\n",
        "        except (ValueError, ZeroDivisionError):\n",
        "            # Handle invalid inputs or zero division by prompting again\n",
        "            pass\n",
        "\n",
        "if __name__ == \"__main__\":\n",
        "    main()\n"
      ],
      "metadata": {
        "colab": {
          "base_uri": "https://localhost:8080/"
        },
        "id": "T6onUiEyBlL7",
        "outputId": "e3ccd1a0-979e-4e2e-897e-42f672dc1b0d"
      },
      "execution_count": null,
      "outputs": [
        {
          "output_type": "stream",
          "name": "stdout",
          "text": [
            "Fraction (X/Y): 0/1\n",
            "E\n"
          ]
        }
      ]
    },
    {
      "cell_type": "code",
      "source": [],
      "metadata": {
        "id": "RFkB4wa0p7R8"
      },
      "execution_count": null,
      "outputs": []
    },
    {
      "cell_type": "code",
      "source": [
        "import json\n",
        "\n",
        "person_json='''{\n",
        "  \"name\":\"Jannu\",\n",
        "  \"city\":\"NY\",\n",
        "  \"State\":\"New York\",\n",
        "  \"Phone_list\":[\"test\",\"test2\",\"test3\"]\n",
        "}'''\n",
        "readjson= json.loads(person_json)\n",
        "print(readjson)\n",
        "print(type(readjson))\n",
        "print(readjson['name'])\n",
        "print(readjson['Phone_list'][2])\n"
      ],
      "metadata": {
        "colab": {
          "base_uri": "https://localhost:8080/"
        },
        "id": "eOQbzC5MJOfC",
        "outputId": "6a6de818-80da-418a-b974-c9c84f5af686"
      },
      "execution_count": null,
      "outputs": [
        {
          "output_type": "stream",
          "name": "stdout",
          "text": [
            "{'name': 'Jannu', 'city': 'NY', 'State': 'New York', 'Phone_list': ['test', 'test2', 'test3']}\n",
            "<class 'dict'>\n",
            "Jannu\n",
            "test3\n"
          ]
        }
      ]
    },
    {
      "cell_type": "code",
      "source": [
        "import json\n",
        "person= {\n",
        "    \"name\": \"ravi\",\n",
        "    \"country\": \"NY\",\n",
        "    \"Phone_list\":[\"test\",\"test2\",\"test3\"]\n",
        "}\n",
        "\n",
        "with open('./jj-json.json','w',encoding='utf-8') as f:\n",
        "    json.dump(person,f,indent=4)"
      ],
      "metadata": {
        "id": "9fLXlNDpNPp_"
      },
      "execution_count": null,
      "outputs": []
    },
    {
      "cell_type": "code",
      "source": [
        "#Write a function which count number of lines and number of words in a text\n",
        "\n",
        "import os\n",
        "filename='/content/obama_speech.txt'\n",
        "\n",
        "def read_file(filename):\n",
        "  lnct=0\n",
        "  wrdcnt=0\n",
        "  with open(filename,'r') as f:\n",
        "    row=f.read().splitlines()\n",
        "    for r in row:\n",
        "      lnct +=1\n",
        "      wrdcnt=len(r.split(\" \"))\n",
        "      wrdcnt += 1\n",
        "      #print(f\"word cnt:{wrdcnt}, line -->{lnct}\")\n",
        "\n",
        "  return lnct,wrdcnt\n",
        "\n",
        "lncnt, wrdcnt1 =read_file(filename)\n",
        "print(f\"word cnt:{wrdcnt1}, line -->{lncnt}\")\n",
        "\n",
        "\n"
      ],
      "metadata": {
        "collapsed": true,
        "id": "wsp4Z5h7ZyOW"
      },
      "execution_count": null,
      "outputs": []
    },
    {
      "cell_type": "code",
      "source": [
        "import json\n",
        "filename='/content/countries_data.json'\n",
        "def most_spoken_languages(filename,noof):\n",
        "  word_counts={}\n",
        "  with open (filename, 'r', encoding='utf-8') as f:\n",
        "      json_ln=json.load(f)\n",
        "      for lst in json_ln:\n",
        "        #print(lst['languages'])\n",
        "        for word in lst['languages']:\n",
        "            if word in word_counts:\n",
        "                word_counts[word]+=1\n",
        "            else:\n",
        "                word_counts[word]=1\n",
        "\n",
        "  word_counts= sorted(word_counts.items(),key=lambda x:x[1],reverse=True)\n",
        "  word_counts=word_counts[:noof]\n",
        "\n",
        "  return word_counts\n",
        "\n",
        "print(most_spoken_languages(filename,3))\n"
      ],
      "metadata": {
        "colab": {
          "base_uri": "https://localhost:8080/"
        },
        "id": "tD8FFp-rwDZ4",
        "outputId": "883c2606-ea51-423e-f2f9-e20c79d88cfd"
      },
      "execution_count": null,
      "outputs": [
        {
          "output_type": "stream",
          "name": "stdout",
          "text": [
            "[('English', 91), ('French', 45), ('Arabic', 25)]\n"
          ]
        }
      ]
    },
    {
      "cell_type": "code",
      "source": [
        "import random\n",
        "cards=['jack','queen','king']\n",
        "random.shuffle(cards)\n",
        "for c in cards:\n",
        "    print(c)\n",
        "r=random.randint(1,10)\n",
        "print(r)\n",
        "k= random.choice(['jack','queen','king'])\n",
        "print(k)\n",
        "\n",
        "import statistics\n",
        "\n",
        "print(statistics.mean([100,92]))\n"
      ],
      "metadata": {
        "colab": {
          "base_uri": "https://localhost:8080/"
        },
        "id": "aODEciJzp9WH",
        "outputId": "b63ee735-4d47-46ca-dee0-a9317d954253"
      },
      "execution_count": null,
      "outputs": [
        {
          "output_type": "stream",
          "name": "stdout",
          "text": [
            "queen\n",
            "king\n",
            "jack\n",
            "9\n",
            "queen\n",
            "96\n"
          ]
        }
      ]
    },
    {
      "cell_type": "code",
      "source": [],
      "metadata": {
        "id": "ulZGjjclBkf8"
      },
      "execution_count": null,
      "outputs": []
    },
    {
      "cell_type": "code",
      "source": [
        "python_script=\"\"\"import sys\n",
        "\n",
        "def main():\n",
        "    if len(sys.argv)>2:\n",
        "      print(\"too many arguments\")\n",
        "      sys.exit(1)\n",
        "    elif(len(sys.argv)<2):\n",
        "      print(\"too few arguments\")\n",
        "      sys.exit(1)\n",
        "    else:\n",
        "      print(\"Hello Glad to Meet you\",sys.argv[1])\n",
        "\n",
        "if __name__==\"__main__\":\n",
        "    main()\n",
        "\"\"\"\n",
        "with open(\"mypython_script.py\",\"w\") as f:\n",
        "  f.write(python_script)\n",
        "\n"
      ],
      "metadata": {
        "id": "YEE1dUcGr369"
      },
      "execution_count": null,
      "outputs": []
    },
    {
      "cell_type": "code",
      "source": [
        "!python mypython_script.py rav jannu\n"
      ],
      "metadata": {
        "colab": {
          "base_uri": "https://localhost:8080/"
        },
        "id": "Jt4ZrSupwjsj",
        "outputId": "dece4648-a221-40c0-afa5-98131481a2c3"
      },
      "execution_count": null,
      "outputs": [
        {
          "output_type": "stream",
          "name": "stdout",
          "text": [
            "too many arguments\n"
          ]
        }
      ]
    },
    {
      "cell_type": "code",
      "source": [
        "#usage of resquest import\n",
        "\n",
        "import requests\n",
        "import json\n",
        "import sys\n",
        "\n",
        "#if len(sys.argv)!=2:\n",
        "#  sys.exit(1)\n",
        "\n",
        "response=requests.get(\"https://itunes.apple.com/search?entity=song&limit=20&term=telugu\")\n",
        "\n",
        "out=response.json()\n",
        "print(json.dumps(out,indent=4))\n",
        "\n",
        "for val in out[\"results\"]:\n",
        "    print(val[\"trackName\"])"
      ],
      "metadata": {
        "id": "cDeZpRvbBlpN"
      },
      "execution_count": null,
      "outputs": []
    },
    {
      "cell_type": "code",
      "source": [
        "import pandas as pd\n",
        "\n",
        "# Download and save the dataset in a Pandas dataframe.\n",
        "DATASET_URL='https://github.com/GoogleCloudPlatform/python-docs-samples/raw/main/cloud-sql/postgres/pgvector/data/retail_toy_dataset.csv'\n",
        "df = pd.read_csv(DATASET_URL)\n",
        "#df.head(5)\n",
        "df = df.loc[:, ['product_id', 'product_name', 'description', 'list_price']]\n",
        "df=df.head(2)\n",
        "print(df.count())"
      ],
      "metadata": {
        "colab": {
          "base_uri": "https://localhost:8080/"
        },
        "id": "XMvnso4bHOJU",
        "outputId": "c429b7b5-e379-429a-b524-8ac2511cfaac"
      },
      "execution_count": null,
      "outputs": [
        {
          "output_type": "stream",
          "name": "stdout",
          "text": [
            "product_id      2\n",
            "product_name    2\n",
            "description     2\n",
            "list_price      2\n",
            "dtype: int64\n"
          ]
        }
      ]
    },
    {
      "cell_type": "code",
      "source": [
        "!pip install langchain"
      ],
      "metadata": {
        "id": "hPe7nLZ8JWbu"
      },
      "execution_count": null,
      "outputs": []
    },
    {
      "cell_type": "code",
      "source": [
        "from langchain.text_splitter import RecursiveCharacterTextSplitter\n",
        "from IPython.display import display,Markdown\n",
        "text_splitter = RecursiveCharacterTextSplitter(\n",
        "    separators = [\".\", \"\\n\"],\n",
        "    chunk_size = 500,\n",
        "    chunk_overlap  = 0,\n",
        "    length_function = len,\n",
        ")\n",
        "chunked = []\n",
        "for index, row in df.iterrows():\n",
        "  product_id = row['product_id']\n",
        "  desc = row['description']\n",
        "  print(desc,end=\"----\\n\")\n",
        "  splits = text_splitter.create_documents([desc])\n",
        "  for s in splits:\n",
        "    r = { 'product_id': product_id, 'content': s.page_content }\n",
        "    chunked.append(r)\n",
        "    print(chunked)\n",
        "\n",
        "batch_size = 5\n",
        "for i in range(0, len(chunked), batch_size):\n",
        "  request = [x['content'] for x in chunked[i: i + batch_size]]\n",
        "  display(Markdown(\"hee:\"))\n",
        "  #response = embeddings_service.embed_documents(request)\n",
        "  # Post-process the generated embeddings.\n",
        "  # ..."
      ],
      "metadata": {
        "colab": {
          "base_uri": "https://localhost:8080/",
          "height": 229
        },
        "id": "h_T4dMXzJPg2",
        "outputId": "8829e416-60aa-4f82-d3c5-c6b0b69104de"
      },
      "execution_count": null,
      "outputs": [
        {
          "output_type": "stream",
          "name": "stdout",
          "text": [
            "Rock, paper, scissors is a great way to resolve disputs and hard decisions. Now you can battle it out with these 28mm 12-sided rock, paper, scissors dice. Each word is written on 4 sides of each die. The words are etched into the surface and painted pink. On a roll, the side facing up is the word used on that turn. Rock beats scissors, scissors beats paper, paper beats rock. The 2 dice come enclosed in a convenient plastic re-sealable reusable bag. Great for educational games, dice games, board games, creating your own game, and friends and family fun! Koplow Games Dice are some of the best in the hobby, with well painted and etched numbers/pips/text. WARNING: CHOKING HAZARD - Small parts. Not for children under 3 years. Koplow Games Set of 2 D12 12-Sided Rock, Paper, Scissors Game Dice - White with Pink Letters #13060----\n",
            "[{'product_id': '7e8697b5b7cdb5a40daf54caf1435cd5', 'content': 'Rock, paper, scissors is a great way to resolve disputs and hard decisions. Now you can battle it out with these 28mm 12-sided rock, paper, scissors dice. Each word is written on 4 sides of each die. The words are etched into the surface and painted pink. On a roll, the side facing up is the word used on that turn. Rock beats scissors, scissors beats paper, paper beats rock. The 2 dice come enclosed in a convenient plastic re-sealable reusable bag'}]\n",
            "[{'product_id': '7e8697b5b7cdb5a40daf54caf1435cd5', 'content': 'Rock, paper, scissors is a great way to resolve disputs and hard decisions. Now you can battle it out with these 28mm 12-sided rock, paper, scissors dice. Each word is written on 4 sides of each die. The words are etched into the surface and painted pink. On a roll, the side facing up is the word used on that turn. Rock beats scissors, scissors beats paper, paper beats rock. The 2 dice come enclosed in a convenient plastic re-sealable reusable bag'}, {'product_id': '7e8697b5b7cdb5a40daf54caf1435cd5', 'content': '. Great for educational games, dice games, board games, creating your own game, and friends and family fun! Koplow Games Dice are some of the best in the hobby, with well painted and etched numbers/pips/text. WARNING: CHOKING HAZARD - Small parts. Not for children under 3 years. Koplow Games Set of 2 D12 12-Sided Rock, Paper, Scissors Game Dice - White with Pink Letters #13060'}]\n",
            "Turn any small bicycle into an instrument for learning to ride with the Schwinn 12\"-20\" Training Wheels. They feature a slotted design to fit 12\" to 20\" bikes. The training wheels are easy to assemble, install and remove, so that when your little one is able to ride without assistance, you can take them off. These bicycle training wheels include steel brackets and rubber tires that can stand up to heavy use. Training Wheels, Fits 12 inches - 20 inches bicycles. Est. 1895. Durable Construction: Steel brackets stand up to heavy use. Customizable: Two sets of wheel decals included. Features: Fits Most Childrens Bicycles: Intended for 12 inch - 20 inch bicycles. Steel Brackets: Offer increased durability. Includes two sets of wheel decals: Learn how to ride in style - see images below. Easy to Adjust: Slotted design for size adjustment. Includes: One pair of training wheels, four decals, installation instructions, and all mounting hardware. Tools required: Adjustable wrench. www.schwinnbikes.com. Follow ride Schwinn on: Twitter. Facebook. Made in China. Training Wheels,Fits 12 inches - 20 inches bicycles. Est. 1895. Durable Construction: Steel brackets stand up to heavy use. Customizable: Two sets of wheel decals included. Features: Fits Most Childrens Bicycles: Intended for 12 inch - 20 inch bicycles. Steel Brackets: Offer increased durability. Includes two sets of wheel decals: Learn how to ride in style - see images below. Easy to Adjust: Slotted design for size adjustment. Includes: One pair of training wheels, four decals, installation instructions, and all mounting hardware. Tools required: Adjustable wrench. www.schwinnbikes.com. Follow ride Schwinn on: Twitter. Facebook. Made in China.----\n",
            "[{'product_id': '7e8697b5b7cdb5a40daf54caf1435cd5', 'content': 'Rock, paper, scissors is a great way to resolve disputs and hard decisions. Now you can battle it out with these 28mm 12-sided rock, paper, scissors dice. Each word is written on 4 sides of each die. The words are etched into the surface and painted pink. On a roll, the side facing up is the word used on that turn. Rock beats scissors, scissors beats paper, paper beats rock. The 2 dice come enclosed in a convenient plastic re-sealable reusable bag'}, {'product_id': '7e8697b5b7cdb5a40daf54caf1435cd5', 'content': '. Great for educational games, dice games, board games, creating your own game, and friends and family fun! Koplow Games Dice are some of the best in the hobby, with well painted and etched numbers/pips/text. WARNING: CHOKING HAZARD - Small parts. Not for children under 3 years. Koplow Games Set of 2 D12 12-Sided Rock, Paper, Scissors Game Dice - White with Pink Letters #13060'}, {'product_id': '7de8b315b3cb91f3680eb5b88a20dcee', 'content': 'Turn any small bicycle into an instrument for learning to ride with the Schwinn 12\"-20\" Training Wheels. They feature a slotted design to fit 12\" to 20\" bikes. The training wheels are easy to assemble, install and remove, so that when your little one is able to ride without assistance, you can take them off. These bicycle training wheels include steel brackets and rubber tires that can stand up to heavy use. Training Wheels, Fits 12 inches - 20 inches bicycles. Est. 1895'}]\n",
            "[{'product_id': '7e8697b5b7cdb5a40daf54caf1435cd5', 'content': 'Rock, paper, scissors is a great way to resolve disputs and hard decisions. Now you can battle it out with these 28mm 12-sided rock, paper, scissors dice. Each word is written on 4 sides of each die. The words are etched into the surface and painted pink. On a roll, the side facing up is the word used on that turn. Rock beats scissors, scissors beats paper, paper beats rock. The 2 dice come enclosed in a convenient plastic re-sealable reusable bag'}, {'product_id': '7e8697b5b7cdb5a40daf54caf1435cd5', 'content': '. Great for educational games, dice games, board games, creating your own game, and friends and family fun! Koplow Games Dice are some of the best in the hobby, with well painted and etched numbers/pips/text. WARNING: CHOKING HAZARD - Small parts. Not for children under 3 years. Koplow Games Set of 2 D12 12-Sided Rock, Paper, Scissors Game Dice - White with Pink Letters #13060'}, {'product_id': '7de8b315b3cb91f3680eb5b88a20dcee', 'content': 'Turn any small bicycle into an instrument for learning to ride with the Schwinn 12\"-20\" Training Wheels. They feature a slotted design to fit 12\" to 20\" bikes. The training wheels are easy to assemble, install and remove, so that when your little one is able to ride without assistance, you can take them off. These bicycle training wheels include steel brackets and rubber tires that can stand up to heavy use. Training Wheels, Fits 12 inches - 20 inches bicycles. Est. 1895'}, {'product_id': '7de8b315b3cb91f3680eb5b88a20dcee', 'content': '. Durable Construction: Steel brackets stand up to heavy use. Customizable: Two sets of wheel decals included. Features: Fits Most Childrens Bicycles: Intended for 12 inch - 20 inch bicycles. Steel Brackets: Offer increased durability. Includes two sets of wheel decals: Learn how to ride in style - see images below. Easy to Adjust: Slotted design for size adjustment. Includes: One pair of training wheels, four decals, installation instructions, and all mounting hardware'}]\n",
            "[{'product_id': '7e8697b5b7cdb5a40daf54caf1435cd5', 'content': 'Rock, paper, scissors is a great way to resolve disputs and hard decisions. Now you can battle it out with these 28mm 12-sided rock, paper, scissors dice. Each word is written on 4 sides of each die. The words are etched into the surface and painted pink. On a roll, the side facing up is the word used on that turn. Rock beats scissors, scissors beats paper, paper beats rock. The 2 dice come enclosed in a convenient plastic re-sealable reusable bag'}, {'product_id': '7e8697b5b7cdb5a40daf54caf1435cd5', 'content': '. Great for educational games, dice games, board games, creating your own game, and friends and family fun! Koplow Games Dice are some of the best in the hobby, with well painted and etched numbers/pips/text. WARNING: CHOKING HAZARD - Small parts. Not for children under 3 years. Koplow Games Set of 2 D12 12-Sided Rock, Paper, Scissors Game Dice - White with Pink Letters #13060'}, {'product_id': '7de8b315b3cb91f3680eb5b88a20dcee', 'content': 'Turn any small bicycle into an instrument for learning to ride with the Schwinn 12\"-20\" Training Wheels. They feature a slotted design to fit 12\" to 20\" bikes. The training wheels are easy to assemble, install and remove, so that when your little one is able to ride without assistance, you can take them off. These bicycle training wheels include steel brackets and rubber tires that can stand up to heavy use. Training Wheels, Fits 12 inches - 20 inches bicycles. Est. 1895'}, {'product_id': '7de8b315b3cb91f3680eb5b88a20dcee', 'content': '. Durable Construction: Steel brackets stand up to heavy use. Customizable: Two sets of wheel decals included. Features: Fits Most Childrens Bicycles: Intended for 12 inch - 20 inch bicycles. Steel Brackets: Offer increased durability. Includes two sets of wheel decals: Learn how to ride in style - see images below. Easy to Adjust: Slotted design for size adjustment. Includes: One pair of training wheels, four decals, installation instructions, and all mounting hardware'}, {'product_id': '7de8b315b3cb91f3680eb5b88a20dcee', 'content': '. Tools required: Adjustable wrench. www.schwinnbikes.com. Follow ride Schwinn on: Twitter. Facebook. Made in China. Training Wheels,Fits 12 inches - 20 inches bicycles. Est. 1895. Durable Construction: Steel brackets stand up to heavy use. Customizable: Two sets of wheel decals included. Features: Fits Most Childrens Bicycles: Intended for 12 inch - 20 inch bicycles. Steel Brackets: Offer increased durability. Includes two sets of wheel decals: Learn how to ride in style - see images below'}]\n",
            "[{'product_id': '7e8697b5b7cdb5a40daf54caf1435cd5', 'content': 'Rock, paper, scissors is a great way to resolve disputs and hard decisions. Now you can battle it out with these 28mm 12-sided rock, paper, scissors dice. Each word is written on 4 sides of each die. The words are etched into the surface and painted pink. On a roll, the side facing up is the word used on that turn. Rock beats scissors, scissors beats paper, paper beats rock. The 2 dice come enclosed in a convenient plastic re-sealable reusable bag'}, {'product_id': '7e8697b5b7cdb5a40daf54caf1435cd5', 'content': '. Great for educational games, dice games, board games, creating your own game, and friends and family fun! Koplow Games Dice are some of the best in the hobby, with well painted and etched numbers/pips/text. WARNING: CHOKING HAZARD - Small parts. Not for children under 3 years. Koplow Games Set of 2 D12 12-Sided Rock, Paper, Scissors Game Dice - White with Pink Letters #13060'}, {'product_id': '7de8b315b3cb91f3680eb5b88a20dcee', 'content': 'Turn any small bicycle into an instrument for learning to ride with the Schwinn 12\"-20\" Training Wheels. They feature a slotted design to fit 12\" to 20\" bikes. The training wheels are easy to assemble, install and remove, so that when your little one is able to ride without assistance, you can take them off. These bicycle training wheels include steel brackets and rubber tires that can stand up to heavy use. Training Wheels, Fits 12 inches - 20 inches bicycles. Est. 1895'}, {'product_id': '7de8b315b3cb91f3680eb5b88a20dcee', 'content': '. Durable Construction: Steel brackets stand up to heavy use. Customizable: Two sets of wheel decals included. Features: Fits Most Childrens Bicycles: Intended for 12 inch - 20 inch bicycles. Steel Brackets: Offer increased durability. Includes two sets of wheel decals: Learn how to ride in style - see images below. Easy to Adjust: Slotted design for size adjustment. Includes: One pair of training wheels, four decals, installation instructions, and all mounting hardware'}, {'product_id': '7de8b315b3cb91f3680eb5b88a20dcee', 'content': '. Tools required: Adjustable wrench. www.schwinnbikes.com. Follow ride Schwinn on: Twitter. Facebook. Made in China. Training Wheels,Fits 12 inches - 20 inches bicycles. Est. 1895. Durable Construction: Steel brackets stand up to heavy use. Customizable: Two sets of wheel decals included. Features: Fits Most Childrens Bicycles: Intended for 12 inch - 20 inch bicycles. Steel Brackets: Offer increased durability. Includes two sets of wheel decals: Learn how to ride in style - see images below'}, {'product_id': '7de8b315b3cb91f3680eb5b88a20dcee', 'content': '. Easy to Adjust: Slotted design for size adjustment. Includes: One pair of training wheels, four decals, installation instructions, and all mounting hardware. Tools required: Adjustable wrench. www.schwinnbikes.com. Follow ride Schwinn on: Twitter. Facebook. Made in China.'}]\n"
          ]
        },
        {
          "output_type": "display_data",
          "data": {
            "text/plain": [
              "<IPython.core.display.Markdown object>"
            ],
            "text/markdown": "hee:"
          },
          "metadata": {}
        },
        {
          "output_type": "display_data",
          "data": {
            "text/plain": [
              "<IPython.core.display.Markdown object>"
            ],
            "text/markdown": "hee:"
          },
          "metadata": {}
        }
      ]
    },
    {
      "cell_type": "code",
      "source": [],
      "metadata": {
        "id": "aVdfpJeXSwG-"
      },
      "execution_count": null,
      "outputs": []
    },
    {
      "cell_type": "code",
      "source": [
        "from langchain.embeddings import VertexAIEmbeddings\n",
        "from google.cloud import aiplatform\n",
        "\n",
        "aiplatform.init(project=f\"{project_id}\", location=f\"{region}\")\n",
        "embeddings_service = VertexAIEmbeddings()\n",
        "\n",
        "batch_size = 5\n",
        "for i in range(0, len(chunked), batch_size):\n",
        "  request = [x['content'] for x in chunked[i: i + batch_size]]\n",
        "  response = embeddings_service.embed_documents(request)\n",
        "  # Post-process the generated embeddings.\n",
        "  # ..."
      ],
      "metadata": {
        "id": "qHMoN4rsMBoI"
      },
      "execution_count": null,
      "outputs": []
    },
    {
      "cell_type": "code",
      "source": [
        "database_user = \"test\"  # @param {type:\"string\"}\n",
        "assert database_user, \"⚠️ Please provide a database password\""
      ],
      "metadata": {
        "id": "_H8YzOC8Sxpa"
      },
      "execution_count": null,
      "outputs": []
    }
  ]
}
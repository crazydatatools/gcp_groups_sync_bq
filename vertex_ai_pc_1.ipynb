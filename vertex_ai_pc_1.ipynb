{
  "nbformat": 4,
  "nbformat_minor": 0,
  "metadata": {
    "colab": {
      "provenance": [],
      "authorship_tag": "ABX9TyOd/c7/D85ZrHcq4oBuSKj3",
      "include_colab_link": true
    },
    "kernelspec": {
      "name": "python3",
      "display_name": "Python 3"
    },
    "language_info": {
      "name": "python"
    }
  },
  "cells": [
    {
      "cell_type": "markdown",
      "metadata": {
        "id": "view-in-github",
        "colab_type": "text"
      },
      "source": [
        "<a href=\"https://colab.research.google.com/github/crazydatatools/gcp_groups_sync_bq/blob/main/vertex_ai_pc_1.ipynb\" target=\"_parent\"><img src=\"https://colab.research.google.com/assets/colab-badge.svg\" alt=\"Open In Colab\"/></a>"
      ]
    },
    {
      "cell_type": "code",
      "execution_count": 1,
      "metadata": {
        "id": "Stm_8YBeVvgR"
      },
      "outputs": [],
      "source": [
        "#import spacy and loading the model\n",
        "\n",
        "import spacy\n",
        "nlp = spacy.load(\"en_core_web_sm\")"
      ]
    },
    {
      "cell_type": "code",
      "source": [
        "text = '''\n",
        "Thor: Love and Thunder is a 2022 American superhero film based on Marvel Comics featuring the character Thor, produced by Marvel Studios and\n",
        "distributed by Walt Disney Studios Motion Pictures. It is the sequel to Thor: Ragnarok (2017) and the 29th film in the Marvel Cinematic Universe (MCU).\n",
        "The film is directed by Taika Waititi, who co-wrote the script with Jennifer Kaytin Robinson, and stars Chris Hemsworth as Thor alongside Christian Bale, Tessa Thompson,\n",
        "Jaimie Alexander, Waititi, Russell Crowe, and Natalie Portman. In the film, Thor attempts to find inner peace, but must return to action and recruit Valkyrie (Thompson),\n",
        "Korg (Waititi), and Jane Foster (Portman)—who is now the Mighty Thor—to stop Gorr the God Butcher (Bale) from eliminating all gods.\n",
        "'''\n",
        "\n",
        "#step1: Create the object 'doc' for the given text using nlp()\n",
        "doc = nlp(text)\n",
        "\n",
        "\n",
        "#step2: define the variables to keep track of stopwords count and total words count\n",
        "stop_words_count = 0\n",
        "total_words_count = 0\n",
        "\n",
        "\n",
        "#step3: iterate through all the words in the document\n",
        "for token in doc:\n",
        "  if token.is_stop:         #check whether given token is stop word or not and increment accordingly\n",
        "    print(f\"stop words --{token}\")\n",
        "    stop_words_count += 1\n",
        "  total_words_count +=  1   #increment the total_words_count\n",
        "\n",
        "\n",
        "#step4: print the count of stop words\n",
        "print(f\"Total Stop words presented in the given text: {stop_words_count}\")\n",
        "\n",
        "\n",
        "#step5: print the percentage of stop words compared to total words in the text\n",
        "percentage_stop_words = (stop_words_count / total_words_count) * 100\n",
        "\n",
        "print(f\"Percentage of Stop words presented in the given text: {percentage_stop_words} %\")"
      ],
      "metadata": {
        "colab": {
          "base_uri": "https://localhost:8080/"
        },
        "collapsed": true,
        "id": "mDO78FYYWUYx",
        "outputId": "9a3a9063-89bc-454c-87c1-7f43013788b4"
      },
      "execution_count": 3,
      "outputs": [
        {
          "output_type": "stream",
          "name": "stdout",
          "text": [
            "stop words --and\n",
            "stop words --is\n",
            "stop words --a\n",
            "stop words --on\n",
            "stop words --the\n",
            "stop words --by\n",
            "stop words --and\n",
            "stop words --by\n",
            "stop words --It\n",
            "stop words --is\n",
            "stop words --the\n",
            "stop words --to\n",
            "stop words --and\n",
            "stop words --the\n",
            "stop words --in\n",
            "stop words --the\n",
            "stop words --The\n",
            "stop words --is\n",
            "stop words --by\n",
            "stop words --who\n",
            "stop words --the\n",
            "stop words --with\n",
            "stop words --and\n",
            "stop words --as\n",
            "stop words --and\n",
            "stop words --In\n",
            "stop words --the\n",
            "stop words --to\n",
            "stop words --but\n",
            "stop words --must\n",
            "stop words --to\n",
            "stop words --and\n",
            "stop words --and\n",
            "stop words --is\n",
            "stop words --now\n",
            "stop words --the\n",
            "stop words --to\n",
            "stop words --the\n",
            "stop words --from\n",
            "stop words --all\n",
            "Total Stop words presented in the given text: 40\n",
            "Percentage of Stop words presented in the given text: 25.0 %\n"
          ]
        }
      ]
    },
    {
      "cell_type": "code",
      "source": [
        "#use this pre-processing function to pass the text and to remove all the stop words and finally get the cleaned form\n",
        "def pre_process(text):\n",
        "  doc=nlp(text)\n",
        "  no_stop_words=[token.text for token in doc if not token.is_stop]\n",
        "  print(no_stop_words)\n",
        "  return \" \".join(no_stop_words)\n",
        "#Step1: remove the stopword 'not' in spacy\n",
        "nlp.vocab['not'].is_stop = False\n",
        "#nlp.vocab['is'].is_stop = False\n",
        "\n",
        "\n",
        "#step2: send the two texts given above into the pre-process function and store the transformed texts\n",
        "positive_text = pre_process('this is a good movie')\n",
        "negative_text = pre_process('this is not a good movie')\n",
        "\n",
        "\n",
        "#step3: finally print those 2 transformed texts\n",
        "print(f\"Text1: {positive_text}\")\n",
        "print(f\"Text2: {negative_text}\")"
      ],
      "metadata": {
        "colab": {
          "base_uri": "https://localhost:8080/"
        },
        "id": "LCN_YNEdYUUE",
        "outputId": "220e746c-129a-4130-da7a-ec77d8d051c2"
      },
      "execution_count": 7,
      "outputs": [
        {
          "output_type": "stream",
          "name": "stdout",
          "text": [
            "['is', 'good', 'movie']\n",
            "['is', 'not', 'good', 'movie']\n",
            "Text1: is good movie\n",
            "Text2: is not good movie\n"
          ]
        }
      ]
    },
    {
      "cell_type": "code",
      "source": [
        "text = ''' The India men's national cricket team, also known as Team India or the Men in Blue, represents India in men's international cricket.\n",
        "It is governed by the Board of Control for Cricket in India (BCCI), and is a Full Member of the International Cricket Council (ICC) with Test,\n",
        "One Day International (ODI) and Twenty20 International (T20I) status. Cricket was introduced to India by British sailors in the 18th century, and the\n",
        "first cricket club was established in 1792. India's national cricket team played its first Test match on 25 June 1932 at Lord's, becoming the sixth team to be\n",
        "granted test cricket status.\n",
        "'''\n",
        "#step1: Create the object 'doc' for the given text using nlp()\n",
        "doc=nlp(text)\n",
        "\n",
        "#step2: remove all the stop words and punctuations and store all the remaining tokens in a new list\n",
        "remaining_tokens=[]\n",
        "for token in doc:\n",
        "  if token.is_stop or token.is_punct: # check the token is stop word or puncuation\n",
        "    continue\n",
        "  remaining_tokens.append(token.text)\n",
        "\n",
        "print(f\"raming_tokens-list-{remaining_tokens}\")\n",
        "\n",
        "#step3: create a new dictionary and get the frequency of words by iterating through the list which contains stored tokens\n",
        "frequenc_tokens={}\n",
        "for token in remaining_tokens:\n",
        "  if token!='\\n' and token !=' ':\n",
        "    if token not in frequenc_tokens:\n",
        "      frequenc_tokens[token]=1\n",
        "    else:\n",
        "      frequenc_tokens[token]+=1\n",
        "\n",
        "print(f\" frequency tokesn list-{frequenc_tokens}\")\n",
        "#step4: get the maximum frequency word\n",
        "max_freq_word = max(frequenc_tokens.keys(), key=(lambda key: frequenc_tokens[key]))\n",
        "print(max_freq_word)\n",
        "#step5: finally print the result\n",
        "print(f\"Maximum frequency word: {max_freq_word}\")"
      ],
      "metadata": {
        "colab": {
          "base_uri": "https://localhost:8080/"
        },
        "id": "pTw3CZp6b9_W",
        "outputId": "d0a3c7f1-768b-4adb-d25a-99e066e38438"
      },
      "execution_count": 19,
      "outputs": [
        {
          "output_type": "stream",
          "name": "stdout",
          "text": [
            "raming_tokens-list-[' ', 'India', 'men', 'national', 'cricket', 'team', 'known', 'Team', 'India', 'Men', 'Blue', 'represents', 'India', 'men', 'international', 'cricket', '\\n', 'is', 'governed', 'Board', 'Control', 'Cricket', 'India', 'BCCI', 'is', 'Member', 'International', 'Cricket', 'Council', 'ICC', 'Test', '\\n', 'Day', 'International', 'ODI', 'Twenty20', 'International', 'T20I', 'status', 'Cricket', 'introduced', 'India', 'British', 'sailors', '18th', 'century', '\\n', 'cricket', 'club', 'established', '1792', 'India', 'national', 'cricket', 'team', 'played', 'Test', 'match', '25', 'June', '1932', 'Lord', 'sixth', 'team', '\\n', 'granted', 'test', 'cricket', 'status', '\\n']\n",
            " frequency tokesn list-{'India': 6, 'men': 2, 'national': 2, 'cricket': 5, 'team': 3, 'known': 1, 'Team': 1, 'Men': 1, 'Blue': 1, 'represents': 1, 'international': 1, 'is': 2, 'governed': 1, 'Board': 1, 'Control': 1, 'Cricket': 3, 'BCCI': 1, 'Member': 1, 'International': 3, 'Council': 1, 'ICC': 1, 'Test': 2, 'Day': 1, 'ODI': 1, 'Twenty20': 1, 'T20I': 1, 'status': 2, 'introduced': 1, 'British': 1, 'sailors': 1, '18th': 1, 'century': 1, 'club': 1, 'established': 1, '1792': 1, 'played': 1, 'match': 1, '25': 1, 'June': 1, '1932': 1, 'Lord': 1, 'sixth': 1, 'granted': 1, 'test': 1}\n",
            "India\n",
            "Maximum frequency word: India\n"
          ]
        }
      ]
    }
  ]
}